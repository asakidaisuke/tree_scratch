{
 "cells": [
  {
   "cell_type": "code",
   "execution_count": 1,
   "metadata": {},
   "outputs": [],
   "source": [
    "from scratch_tree.regression_trees import GradientBoostingRegressor,RandomforestRegressor,DecisionTreeRegressor\n",
    "\n",
    "from sklearn.model_selection import train_test_split\n",
    "from sklearn.metrics import r2_score, mean_squared_error\n",
    "from sklearn.datasets import load_boston\n",
    "\n",
    "import numpy as np\n",
    "import matplotlib.pyplot as plt\n",
    "%matplotlib inline"
   ]
  },
  {
   "cell_type": "code",
   "execution_count": 2,
   "metadata": {},
   "outputs": [],
   "source": [
    "boston = load_boston()\n",
    "X=boston.data\n",
    "y=boston.target\n",
    "X_train, X_test, y_train, y_test = train_test_split(X, y, test_size=0.3, random_state=1234)"
   ]
  },
  {
   "cell_type": "code",
   "execution_count": 3,
   "metadata": {},
   "outputs": [
    {
     "name": "stderr",
     "output_type": "stream",
     "text": [
      "/home/daisuke/pythonproject/Jaist/business analisys/tree family scratch/scratch_tree/regression_trees.py:11: RuntimeWarning: Mean of empty slice\n",
      "  x_mean=np.nanmean(x)\n",
      "/home/daisuke/pythonproject/Jaist/business analisys/tree family scratch/scratch_tree/_base.py:102: FutureWarning: Using a non-tuple sequence for multidimensional indexing is deprecated; use `arr[tuple(seq)]` instead of `arr[seq]`. In the future this will be interpreted as an array index, `arr[np.array(seq)]`, which will result either in an error or a different result.\n",
      "  return np.array(data_set_list)[[sub_set_mask]]\n"
     ]
    },
    {
     "name": "stdout",
     "output_type": "stream",
     "text": [
      "R^2 =  0.8533018381081683\n",
      "rmse =  3.677312941224551\n"
     ]
    },
    {
     "data": {
      "image/png": "[encoded data removed]",
      "text/plain": [
       "<Figure size 432x288 with 1 Axes>"
      ]
     },
     "metadata": {
      "needs_background": "light"
     },
     "output_type": "display_data"
    }
   ],
   "source": [
    "dt = DecisionTreeRegressor(n_min = 10)\n",
    "dt.fit(X_train,y_train)\n",
    "pre = dt.predict(X_test)\n",
    "rmse = np.sqrt(mean_squared_error(y_test, pre))\n",
    "r2 = r2_score(y_test, pre)\n",
    "print(\"R^2 = \", r2)\n",
    "print(\"rmse = \", rmse)\n",
    "plt.scatter(y_test,pre)\n",
    "plt.show()\n",
    "plt.close()"
   ]
  },
  {
   "cell_type": "code",
   "execution_count": null,
   "metadata": {},
   "outputs": [
    {
     "name": "stderr",
     "output_type": "stream",
     "text": [
      "/home/daisuke/pythonproject/Jaist/business analisys/tree family scratch/scratch_tree/regression_trees.py:38: RuntimeWarning: Mean of empty slice\n",
      "  x_mean=np.nanmean(x)\n",
      "/home/daisuke/pythonproject/Jaist/business analisys/tree family scratch/scratch_tree/_base.py:102: FutureWarning: Using a non-tuple sequence for multidimensional indexing is deprecated; use `arr[tuple(seq)]` instead of `arr[seq]`. In the future this will be interpreted as an array index, `arr[np.array(seq)]`, which will result either in an error or a different result.\n",
      "  return np.array(data_set_list)[[sub_set_mask]]\n"
     ]
    }
   ],
   "source": [
    "rf = RandomforestRegressor(n_min = 10, n_estimator=50)\n",
    "rf.fit(X_train,y_train)\n",
    "pre = rf.predict(X_test)\n",
    "rmse = np.sqrt(mean_squared_error(y_test, pre))\n",
    "r2 = r2_score(y_test, pre)\n",
    "print(\"R^2 = \", r2)\n",
    "print(\"rmse = \", rmse)\n",
    "plt.scatter(y_test,pre)\n",
    "plt.show()\n",
    "plt.close()"
   ]
  },
  {
   "cell_type": "code",
   "execution_count": null,
   "metadata": {},
   "outputs": [],
   "source": [
    "gb = GradientBoostingRegressor(n_min = 10, n_estimator=150)\n",
    "gb.fit(X_train,y_train)\n",
    "pre = gb.predict(X_test)\n",
    "rmse = np.sqrt(mean_squared_error(y_test, pre))\n",
    "r2 = r2_score(y_test, pre)\n",
    "print(\"R^2 = \", r2)\n",
    "print(\"rmse = \", rmse)\n",
    "plt.scatter(y_test,pre)\n",
    "plt.show()\n",
    "plt.close()"
   ]
  },
  {
   "cell_type": "code",
   "execution_count": null,
   "metadata": {},
   "outputs": [],
   "source": []
  },
  {
   "cell_type": "code",
   "execution_count": null,
   "metadata": {},
   "outputs": [],
   "source": []
  }
 ],
 "metadata": {
  "kernelspec": {
   "display_name": "Python 3",
   "language": "python",
   "name": "python3"
  },
  "language_info": {
   "codemirror_mode": {
    "name": "ipython",
    "version": 3
   },
   "file_extension": ".py",
   "mimetype": "text/x-python",
   "name": "python",
   "nbconvert_exporter": "python",
   "pygments_lexer": "ipython3",
   "version": "3.8.3"
  }
 },
 "nbformat": 4,
 "nbformat_minor": 4
}
